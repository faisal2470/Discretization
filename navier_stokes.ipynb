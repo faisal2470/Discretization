{
 "cells": [
  {
   "cell_type": "code",
   "execution_count": 3,
   "id": "2c032f49",
   "metadata": {},
   "outputs": [],
   "source": [
    "import numpy as np\n",
    "import matplotlib.pyplot as plt"
   ]
  },
  {
   "cell_type": "markdown",
   "id": "35fe5915",
   "metadata": {},
   "source": [
    "The navier stokes equation in general form is given by\n",
    "$$ a $$"
   ]
  },
  {
   "cell_type": "code",
   "execution_count": null,
   "id": "94624bcd",
   "metadata": {},
   "outputs": [],
   "source": []
  }
 ],
 "metadata": {
  "kernelspec": {
   "display_name": "Python 3 (ipykernel)",
   "language": "python",
   "name": "python3"
  },
  "language_info": {
   "codemirror_mode": {
    "name": "ipython",
    "version": 3
   },
   "file_extension": ".py",
   "mimetype": "text/x-python",
   "name": "python",
   "nbconvert_exporter": "python",
   "pygments_lexer": "ipython3",
   "version": "3.8.10"
  }
 },
 "nbformat": 4,
 "nbformat_minor": 5
}
